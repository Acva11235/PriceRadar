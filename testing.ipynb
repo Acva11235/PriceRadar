{
 "cells": [
  {
   "cell_type": "code",
   "execution_count": 1,
   "metadata": {},
   "outputs": [],
   "source": [
    "from bs4 import BeautifulSoup\n",
    "import requests\n",
    "import time\n",
    "from IPython.display import display, clear_output\n",
    "from IPython.display import Audio, display\n",
    "\n",
    "\n",
    "import pandas as pd\n",
    "import seaborn as sns\n",
    "import matplotlib.pyplot as plt"
   ]
  },
  {
   "cell_type": "code",
   "execution_count": 2,
   "metadata": {},
   "outputs": [],
   "source": [
    "def data_extractor(soup):\n",
    "    try:\n",
    "        price_data = soup.find(\"span\", class_ = \"a-price-whole\")\n",
    "        price = int(\"\".join(price_data.text[:-1].split(\",\")))\n",
    "\n",
    "        # price_data = soup.find(\"div\", id = \"corePriceDisplay_desktop_feature_div\")\n",
    "\n",
    "        # mrp_data = price_data.find(\"span\", class_ = \"a-size-small aok-offscreen\".split())\n",
    "        # mrp_str = mrp_data.find(\"span\", class_ = \"a-offscreen\")\n",
    "        # mrp = int(\"\".join(mrp_str.text[1:].split(\",\")))\n",
    "\n",
    "        disc = soup.find(\"span\", class_ = \"a-size-large a-color-price savingPriceOverride aok-align-center reinventPriceSavingsPercentageMargin savingsPercentage\")\n",
    "        discount = int(disc.text[1:-1])\n",
    "    except AttributeError:\n",
    "        display(Audio(\"error-126627.mp3\" , autoplay=True))\n",
    "        return [-1, -1]\n",
    "\n",
    "    return (price, discount)"
   ]
  },
  {
   "cell_type": "code",
   "execution_count": 4,
   "metadata": {},
   "outputs": [],
   "source": [
    "products = {\n",
    "\n",
    "    \"sofa\": \"https://www.amazon.in/DECOR-STUDIOS-Grey-Color-Sofa-Folding-Flipper/dp/B0CZS1JBPJ/ref=sr_1_6?crid=34RHB0T92VWU7&dib=eyJ2IjoiMSJ9.EZdQ4B5bf7RU_bCYNsaHOt_iCvoDucymTeu6bMur2Cz20dPSoIXhWvrHbdiuf0FZ8vLQ8d5wmWrSD7N3SwPiubv4aU8kWMQI7fABzucAVLNLj17IFtKo2fySUuyEPzP420RXccEQr_JCO8AwZ5KYXTSBRg52DogZaadHS73We_lJzMLap8AGkE0Xlbn_DLn_l9Z1RJO4M4xVfI96WJYOuCPlYplXkQyFTVrXgjNerv2uqPsDNFZIOj9CXEvcXbtJnxgZzZunUVLiyvfuSs6inP_22781iKWrekdgonKJlc0.Cp182SNh9ILw14JmOS4UtfwnbnpswRN8WBbS0iCljuQ&dib_tag=se&keywords=sofa&qid=1713641118&sprefix=so%2Caps%2C406&sr=8-6\"\n",
    "\n",
    "}"
   ]
  },
  {
   "cell_type": "code",
   "execution_count": null,
   "metadata": {},
   "outputs": [],
   "source": [
    "for product, url in products.items():\n",
    "\n",
    "    headers = {\n",
    "        'User-Agent': 'Mozilla/5.0 (Windows NT 10.0; Win64; x64) AppleWebKit/537.36 (KHTML, like Gecko) Chrome/91.0.4472.124 Safari/537.36',\n",
    "    }\n",
    "\n",
    "    session = requests.Session()\n",
    "    response = session.get(url, headers=headers)\n",
    "\n",
    "    if response.status_code != 200:\n",
    "        print(f\"Failed to retrieve the page. Status code: {response.status_code} for {product}\")\n",
    "\n",
    "    soup = soup = BeautifulSoup(response.text, 'lxml')\n",
    "    print(soup)\n",
    "\n",
    "    data = data_extractor(soup)\n",
    "    print(data)"
   ]
  }
 ],
 "metadata": {
  "kernelspec": {
   "display_name": "Python 3",
   "language": "python",
   "name": "python3"
  },
  "language_info": {
   "codemirror_mode": {
    "name": "ipython",
    "version": 3
   },
   "file_extension": ".py",
   "mimetype": "text/x-python",
   "name": "python",
   "nbconvert_exporter": "python",
   "pygments_lexer": "ipython3",
   "version": "3.9.13"
  }
 },
 "nbformat": 4,
 "nbformat_minor": 2
}
