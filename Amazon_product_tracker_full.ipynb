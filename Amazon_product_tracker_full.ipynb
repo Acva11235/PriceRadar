{
 "cells": [
  {
   "cell_type": "markdown",
   "metadata": {
    "id": "IEJ8pX44wn7w"
   },
   "source": [
    "Input the name and the url of the product that you want to track in the `products` dictionary.\n",
    "\n",
    "NOTE: For stopping the program, press 'ctrl' 'm' and 'i' at the SAME time to keep the output intact"
   ]
  },
  {
   "cell_type": "code",
   "execution_count": 1,
   "metadata": {
    "id": "eKPkB4IGTy55"
   },
   "outputs": [],
   "source": [
    "from bs4 import BeautifulSoup\n",
    "import requests\n",
    "import time\n",
    "from IPython.display import display, clear_output\n",
    "from IPython.display import Audio, display\n",
    "\n",
    "import pandas as pd\n",
    "import seaborn as sns\n",
    "import matplotlib.pyplot as plt"
   ]
  },
  {
   "cell_type": "code",
   "execution_count": 2,
   "metadata": {
    "colab": {
     "base_uri": "https://localhost:8080/"
    },
    "id": "GpmYMxAPp1Rx",
    "outputId": "ecac450a-2cf9-4aff-9a42-c9bd4875b4d0"
   },
   "outputs": [
    {
     "ename": "NameError",
     "evalue": "name 'soup' is not defined",
     "output_type": "error",
     "traceback": [
      "\u001b[1;31m---------------------------------------------------------------------------\u001b[0m",
      "\u001b[1;31mNameError\u001b[0m                                 Traceback (most recent call last)",
      "Cell \u001b[1;32mIn[2], line 1\u001b[0m\n\u001b[1;32m----> 1\u001b[0m price_data \u001b[38;5;241m=\u001b[39m \u001b[43msoup\u001b[49m\u001b[38;5;241m.\u001b[39mfind(\u001b[38;5;124m\"\u001b[39m\u001b[38;5;124mspan\u001b[39m\u001b[38;5;124m\"\u001b[39m, class_ \u001b[38;5;241m=\u001b[39m \u001b[38;5;124m\"\u001b[39m\u001b[38;5;124ma-price-whole\u001b[39m\u001b[38;5;124m\"\u001b[39m)\n\u001b[0;32m      3\u001b[0m price \u001b[38;5;241m=\u001b[39m \u001b[38;5;28mint\u001b[39m(\u001b[38;5;124m\"\u001b[39m\u001b[38;5;124m\"\u001b[39m\u001b[38;5;241m.\u001b[39mjoin(price_data\u001b[38;5;241m.\u001b[39mtext[:\u001b[38;5;241m-\u001b[39m\u001b[38;5;241m1\u001b[39m]\u001b[38;5;241m.\u001b[39msplit(\u001b[38;5;124m\"\u001b[39m\u001b[38;5;124m,\u001b[39m\u001b[38;5;124m\"\u001b[39m)))\n\u001b[0;32m      4\u001b[0m \u001b[38;5;28mprint\u001b[39m(price)\n",
      "\u001b[1;31mNameError\u001b[0m: name 'soup' is not defined"
     ]
    }
   ],
   "source": [
    "price_data = soup.find(\"span\", class_ = \"a-price-whole\")\n",
    "\n",
    "price = int(\"\".join(price_data.text[:-1].split(\",\")))\n",
    "print(price)"
   ]
  },
  {
   "cell_type": "code",
   "execution_count": null,
   "metadata": {
    "colab": {
     "base_uri": "https://localhost:8080/"
    },
    "id": "d0mGqcRor54C",
    "outputId": "dffd2062-aab1-4435-84f1-b578f235b652"
   },
   "outputs": [],
   "source": [
    "price_data = soup.find(\"div\", id = \"corePriceDisplay_desktop_feature_div\")\n",
    "\n",
    "mrp_data = price_data.find(\"span\", class_ = \"a-size-small aok-offscreen\".split())\n",
    "\n",
    "mrp_str = mrp_data.find(\"span\", class_ = \"a-offscreen\")\n",
    "\n",
    "mrp = int(\"\".join(mrp_str.text[1:].split(\",\")))\n",
    "print(mrp)"
   ]
  },
  {
   "cell_type": "code",
   "execution_count": null,
   "metadata": {
    "colab": {
     "base_uri": "https://localhost:8080/"
    },
    "id": "1z9SzajMsPXc",
    "outputId": "12dd1ce5-f1f6-46f8-b1e2-a44551d97cb2"
   },
   "outputs": [],
   "source": [
    "disc = soup.find(\"span\", class_ = \"a-size-large a-color-price savingPriceOverride aok-align-center reinventPriceSavingsPercentageMargin savingsPercentage\")\n",
    "\n",
    "discount = int(disc.text[1:-1])\n",
    "print(discount)"
   ]
  },
  {
   "cell_type": "code",
   "execution_count": null,
   "metadata": {
    "id": "poevGW1QwEDV"
   },
   "outputs": [],
   "source": [
    "def data_extractor(soup):\n",
    "    try:\n",
    "        price_data = soup.find(\"span\", class_ = \"a-price-whole\")\n",
    "        price = int(\"\".join(price_data.text[:-1].split(\",\")))\n",
    "\n",
    "        # price_data = soup.find(\"div\", id = \"corePriceDisplay_desktop_feature_div\")\n",
    "\n",
    "        # mrp_data = price_data.find(\"span\", class_ = \"a-size-small aok-offscreen\".split())\n",
    "        # mrp_str = mrp_data.find(\"span\", class_ = \"a-offscreen\")\n",
    "        # mrp = int(\"\".join(mrp_str.text[1:].split(\",\")))\n",
    "\n",
    "        disc = soup.find(\"span\", class_ = \"a-size-large a-color-price savingPriceOverride aok-align-center reinventPriceSavingsPercentageMargin savingsPercentage\")\n",
    "        discount = int(disc.text[1:-1])\n",
    "    except AttributeError:\n",
    "        display(Audio(\"error-126627.mp3\" , autoplay=True))\n",
    "        return [-1, -1]\n",
    "\n",
    "    return (price, discount)"
   ]
  },
  {
   "cell_type": "code",
   "execution_count": null,
   "metadata": {
    "id": "lQaw3vf8x1I-"
   },
   "outputs": [],
   "source": [
    "def product_tracker(products, time_buffer):\n",
    "    price_tracker = {}\n",
    "    discount_tracker = {}\n",
    "    time_tracker = []\n",
    "\n",
    "    while True:\n",
    "        time_tracker.append(0 if not time_tracker else time_tracker[-1] + time_buffer)\n",
    "\n",
    "        for product, url in products.items():\n",
    "\n",
    "            headers = {\n",
    "                'User-Agent': 'Mozilla/5.0 (Windows NT 10.0; Win64; x64) AppleWebKit/537.36 (KHTML, like Gecko) Chrome/91.0.4472.124 Safari/537.36',\n",
    "            }\n",
    "\n",
    "            session = requests.Session()\n",
    "            response = session.get(url, headers=headers)\n",
    "\n",
    "            if response.status_code != 200:\n",
    "                print(f\"Failed to retrieve the page. Status code: {response.status_code} for {product}\")\n",
    "                return\n",
    "\n",
    "            soup = soup = BeautifulSoup(response.text, 'lxml')\n",
    "\n",
    "            data = data_extractor(soup)\n",
    "\n",
    "            if(data[0] == -1):\n",
    "                print(f\"Error handled for {product}\")\n",
    "                if product not in price_tracker.keys():\n",
    "                    print(f\"Error in the first request for {product} pls recheck the url\")\n",
    "                    return\n",
    "                else:\n",
    "                    price_tracker[product].append(price_tracker[product][-1])\n",
    "                    discount_tracker[product].append(discount_tracker[product][-1])\n",
    "            else:\n",
    "                price_tracker.setdefault(product, []).append(data[0])\n",
    "                discount_tracker.setdefault(product, []).append(data[1])\n",
    "\n",
    "            if(len(price_tracker[product]) > 1 and price_tracker[product][-1] != price_tracker[product][-2]):\n",
    "                display(Audio(\"military-alarm-129017.mp3\" , autoplay=True))\n",
    "                print(f\"Price of {product} changed from {price_tracker[product][-2]} to {price_tracker[product][-1]}\")\n",
    "\n",
    "\n",
    "        display(Audio(\"interface-124464.mp3\" , autoplay=True))\n",
    "\n",
    "        fig, axs = plt.subplots(1, 2, figsize=(18, 4))\n",
    "\n",
    "        for i in price_tracker.values():\n",
    "            if(len(i) < 7):\n",
    "                axs[0].plot(time_tracker, i, marker='o')\n",
    "            else:\n",
    "                axs[0].plot(time_tracker, i)\n",
    "\n",
    "        axs[0].legend(price_tracker.keys())\n",
    "        axs[0].grid(color='grey', linestyle='--', linewidth=0.5)\n",
    "        axs[0].set_title('Prices Over Time')\n",
    "        axs[0].set_xlabel(\"Time (min)\")\n",
    "        axs[0].set_ylabel(\"Price\")\n",
    "\n",
    "        for i in discount_tracker.values():\n",
    "            if(len(i) < 7):\n",
    "                axs[1].plot(time_tracker, i, marker='o')\n",
    "            else:\n",
    "                axs[1].plot(time_tracker, i)\n",
    "\n",
    "        axs[1].legend(discount_tracker.keys())\n",
    "        axs[1].grid(color='grey', linestyle='--', linewidth=0.5)\n",
    "        axs[1].set_title('Discount Over Time')\n",
    "        axs[1].set_xlabel(\"Time (min)\")\n",
    "        axs[1].set_ylabel(\"Discount\")\n",
    "\n",
    "        plt.show()\n",
    "\n",
    "        time.sleep(60 * time_buffer)\n",
    "        clear_output(wait=True)\n",
    "\n",
    "\n"
   ]
  },
  {
   "cell_type": "code",
   "execution_count": null,
   "metadata": {
    "id": "mGA-s_Dkdg7D"
   },
   "outputs": [],
   "source": [
    "def track_my_products(prlducts, time_buffer):\n",
    "    try:\n",
    "        product_tracker(products, time_buffer)\n",
    "    except KeyboardInterrupt:\n",
    "        print(\"Ending sequence\")"
   ]
  },
  {
   "cell_type": "code",
   "execution_count": null,
   "metadata": {
    "colab": {
     "base_uri": "https://localhost:8080/",
     "height": 748
    },
    "id": "2RfwwaEJvQd9",
    "outputId": "19274cf5-bc17-4dec-c21a-37bbf33eba1c"
   },
   "outputs": [],
   "source": [
    "products = {\"boAt Rockerz 255\": \"https://www.amazon.in/boAt-Rockerz-255-Pro-Earphones/dp/B08TTXNZ4Y/ref=sr_1_4?keywords=neckband&qid=1702799102&sr=8-4\",\n",
    "            \"boAt Rockerz 245\": \"https://www.amazon.in/boAt-Rockerz-245-Pro-Interface/dp/B0CC8SBFFR/ref=sr_1_6?keywords=neckband&qid=1702799102&sr=8-6&th=1\",\n",
    "            \"Realme Buds\": \"https://www.amazon.in/Wireless-Bluetooth-Headphones-HrsPlayback-Connection-Vitality/dp/B0C8VKRLRY/ref=sr_1_7?keywords=neckband&qid=1702799102&sr=8-7&th=1\"}\n",
    "\n",
    "track_my_products(products, 2)"
   ]
  },
  {
   "cell_type": "code",
   "execution_count": null,
   "metadata": {},
   "outputs": [],
   "source": [
    "products = {\"iQOO 12 5G\": \"https://www.amazon.in/dp/B07WGMXVFK/?_encoding=UTF8&ie=UTF8&ref_=hero1_iQOO12&pd_rd_w=66fAX&content-id=amzn1.sym.968a7fa3-38f1-472c-8e18-7b18097f3383&pf_rd_p=968a7fa3-38f1-472c-8e18-7b18097f3383&pf_rd_r=5B8P9R1KVF3D25W9RMC5&pd_rd_wg=9bTxL&pd_rd_r=30440867-207b-47ed-bb46-fd6fb31fb983&th=1\"}\n",
    "\n",
    "track_my_products(products, 2)"
   ]
  },
  {
   "cell_type": "code",
   "execution_count": null,
   "metadata": {},
   "outputs": [
    {
     "name": "stdout",
     "output_type": "stream",
     "text": [
      "Ending sequence\n"
     ]
    }
   ],
   "source": [
    "products = {\"Apple iPhone 13 (128GB)\": \"https://www.amazon.in/Apple-iPhone-13-128GB-Product/dp/B09G99CW2N/ref=sr_1_3?crid=17AMWNAG7RZY3&keywords=Iphone&qid=1703069815&sprefix=iph%2Caps%2C221&sr=8-3\",\n",
    "            \"Apple iPhone 15 Pro (512 GB)\": \"https://www.amazon.in/Apple-iPhone-15-Pro-512/dp/B0CHX7R6ZW/ref=sr_1_4?crid=17AMWNAG7RZY3&keywords=Iphone&qid=1703069815&sprefix=iph%2Caps%2C221&sr=8-4&th=1\",\n",
    "            \"Apple iPhone 14 (256 GB)\": \"https://www.amazon.in/Apple-iPhone-256GB-Product-RED/dp/B0BDJ3R6QW/ref=sr_1_5?crid=17AMWNAG7RZY3&keywords=Iphone&qid=1703069815&sprefix=iph%2Caps%2C221&sr=8-5\"}\n",
    "\n",
    "try:\n",
    "    product_tracker(products, 0.1)\n",
    "except KeyboardInterrupt:\n",
    "    print(\"Ending sequence\")\n",
    "except:\n",
    "    print(\"Something went wrong\")"
   ]
  }
 ],
 "metadata": {
  "colab": {
   "provenance": []
  },
  "kernelspec": {
   "display_name": "Python 3 (ipykernel)",
   "language": "python",
   "name": "python3"
  },
  "language_info": {
   "codemirror_mode": {
    "name": "ipython",
    "version": 3
   },
   "file_extension": ".py",
   "mimetype": "text/x-python",
   "name": "python",
   "nbconvert_exporter": "python",
   "pygments_lexer": "ipython3",
   "version": "3.9.13"
  }
 },
 "nbformat": 4,
 "nbformat_minor": 1
}
